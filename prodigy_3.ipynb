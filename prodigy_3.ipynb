{
  "nbformat": 4,
  "nbformat_minor": 0,
  "metadata": {
    "colab": {
      "provenance": [],
      "authorship_tag": "ABX9TyOVQvv60qjRW4FxiLDIBV2J",
      "include_colab_link": true
    },
    "kernelspec": {
      "name": "python3",
      "display_name": "Python 3"
    },
    "language_info": {
      "name": "python"
    }
  },
  "cells": [
    {
      "cell_type": "markdown",
      "metadata": {
        "id": "view-in-github",
        "colab_type": "text"
      },
      "source": [
        "<a href=\"https://colab.research.google.com/github/sandhya-sandy09/PRODIGY_GENAI_03/blob/main/prodigy_3.ipynb\" target=\"_parent\"><img src=\"https://colab.research.google.com/assets/colab-badge.svg\" alt=\"Open In Colab\"/></a>"
      ]
    },
    {
      "cell_type": "code",
      "execution_count": null,
      "metadata": {
        "id": "f2-w-z03UBBl"
      },
      "outputs": [],
      "source": [
        "import random\n",
        "import re\n",
        "from collections import defaultdict"
      ]
    },
    {
      "cell_type": "code",
      "source": [
        "def preprocess_text(text):\n",
        "    # Convert text to lowercase and split into words\n",
        "    text = text.lower()\n",
        "    words = re.findall(r'\\w+', text)\n",
        "    return words\n"
      ],
      "metadata": {
        "id": "_ysJER-FUHAn"
      },
      "execution_count": null,
      "outputs": []
    },
    {
      "cell_type": "code",
      "source": [
        "def build_markov_chain(words, order=1):\n",
        "    markov_chain = defaultdict(list)\n",
        "    for i in range(len(words) - order):\n",
        "        # Create a tuple of the current state (word sequence of length 'order')\n",
        "        current_state = tuple(words[i:i + order])\n",
        "        # Append the next word to the list of possible next words\n",
        "        next_word = words[i + order]\n",
        "        markov_chain[current_state].append(next_word)\n",
        "\n",
        "\n",
        "    return markov_chain"
      ],
      "metadata": {
        "id": "VHgw5H0ZULVK"
      },
      "execution_count": null,
      "outputs": []
    },
    {
      "cell_type": "code",
      "source": [
        "def generate_text(markov_chain, length=50, seed=None, order=1):\n",
        "    if seed:\n",
        "        random.seed(seed)\n",
        "\n",
        "    # Start with a random state\n",
        "    current_state = random.choice(list(markov_chain.keys()))\n",
        "    generated_words = list(current_state)\n",
        "\n",
        "    for _ in range(length - order):\n",
        "        # Get the list of next possible words\n",
        "        next_words = markov_chain[current_state]\n",
        "\n",
        "        if not next_words:\n",
        "            break\n",
        "\n",
        "        # Randomly choose the next word\n",
        "        next_word = random.choice(next_words)\n",
        "        generated_words.append(next_word)\n",
        "\n",
        "        # Move to the next state\n",
        "        current_state = tuple(generated_words[-order:])\n",
        "\n",
        "    return ' '.join(generated_words)\n",
        "# Sample text data\n",
        "text = \"\"\"\n",
        "The quick brown fox jumps over the lazy dog. The fox is quick and the dog is lazy.\n",
        "The dog barks loudly at the quick brown fox. The lazy dog lies down and falls asleep.\n",
        "\"\"\"\n",
        "\n",
        "# Preprocess the text\n",
        "words = preprocess_text(text)\n",
        "\n",
        "# Build the Markov chain model with order 1 (unigram model)\n",
        "markov_chain = build_markov_chain(words, order=1)\n",
        "\n",
        "# Generate text using the Markov chain model\n",
        "generated_text = generate_text(markov_chain, length=50, seed=42)\n",
        "\n",
        "print(\"Generated Text:\")\n",
        "print(generated_text)"
      ],
      "metadata": {
        "id": "xk27MycLUo4t",
        "outputId": "16d19193-9eaf-46a9-a63b-92072479e2b3",
        "colab": {
          "base_uri": "https://localhost:8080/"
        }
      },
      "execution_count": null,
      "outputs": [
        {
          "output_type": "stream",
          "name": "stdout",
          "text": [
            "Generated Text:\n",
            "fox jumps over the lazy dog the quick brown fox the dog the quick brown fox jumps over the quick brown fox jumps over the lazy dog is lazy the fox jumps over the quick brown fox jumps over the dog barks loudly at the dog the dog barks loudly\n"
          ]
        }
      ]
    }
  ]
}